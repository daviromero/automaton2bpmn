{
 "cells": [
  {
   "cell_type": "code",
   "execution_count": null,
   "metadata": {},
   "outputs": [],
   "source": [
    "!pip install teocomp -q\n",
    "from teocomp.nfa_e import NFA_E\n",
    "from to_bpmn import nfa_to_bpmn\n",
    "import pm4py\n"
   ]
  },
  {
   "cell_type": "code",
   "execution_count": null,
   "metadata": {},
   "outputs": [],
   "source": [
    "Q = {'1','2','3','4'}\n",
    "Sigma = {'a','b','c'}\n",
    "q0 = '1'\n",
    "delta = {\n",
    "    ('1','a'):{'2'},\n",
    "    ('1','c'):{'1'},\n",
    "    ('1','b'):{'4'},\n",
    "    ('2','b'):{'4'},\n",
    "    ('2','c'):{'3'},\n",
    "    ('3','c'):{'3'},\n",
    "    ('4','a'):{'2'},\n",
    "    ('4','c'):{'3'},\n",
    "}\n",
    "F = {'3'}\n",
    "NFA = NFA_E(Q,Sigma,q0,delta,F)\n",
    "NFA.visualizar()"
   ]
  },
  {
   "cell_type": "code",
   "execution_count": null,
   "metadata": {},
   "outputs": [],
   "source": [
    "NFA_bpmn = nfa_to_bpmn(NFA, remove_unnecessary_gateways=True)\n",
    "display(pm4py.visualization.bpmn.visualizer.apply(NFA_bpmn))"
   ]
  },
  {
   "cell_type": "code",
   "execution_count": null,
   "metadata": {},
   "outputs": [],
   "source": []
  },
  {
   "cell_type": "code",
   "execution_count": null,
   "metadata": {},
   "outputs": [],
   "source": []
  }
 ],
 "metadata": {
  "kernelspec": {
   "display_name": "base",
   "language": "python",
   "name": "python3"
  },
  "language_info": {
   "codemirror_mode": {
    "name": "ipython",
    "version": 3
   },
   "file_extension": ".py",
   "mimetype": "text/x-python",
   "name": "python",
   "nbconvert_exporter": "python",
   "pygments_lexer": "ipython3",
   "version": "3.9.7"
  },
  "orig_nbformat": 4,
  "vscode": {
   "interpreter": {
    "hash": "40d3a090f54c6569ab1632332b64b2c03c39dcf918b08424e98f38b5ae0af88f"
   }
  }
 },
 "nbformat": 4,
 "nbformat_minor": 2
}
