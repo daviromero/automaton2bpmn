{
 "cells": [
  {
   "cell_type": "code",
   "execution_count": null,
   "metadata": {},
   "outputs": [],
   "source": [
    "!pip install teocomp -q\n",
    "!pip install automaton2bpmn -q\n",
    "\n",
    "from teocomp.nfa_e import NFA_E\n",
    "from automaton2bpmn.to_bpmn import nfa_to_bpmn\n",
    "import pm4py\n"
   ]
  },
  {
   "cell_type": "code",
   "execution_count": null,
   "metadata": {},
   "outputs": [],
   "source": [
    "Q = {'1','2','3','4'}\n",
    "Sigma = {'a','b','c'}\n",
    "q0 = '1'\n",
    "delta = {\n",
    "    ('1','a'):{'2'},\n",
    "    ('1','c'):{'1'},\n",
    "    ('1','b'):{'4'},\n",
    "    ('2','b'):{'4'},\n",
    "    ('2','c'):{'3'},\n",
    "    ('3','c'):{'3'},\n",
    "    ('4','a'):{'2'},\n",
    "    ('4','c'):{'3'},\n",
    "}\n",
    "F = {'3'}\n",
    "NFA = NFA_E(Q,Sigma,q0,delta,F)\n",
    "NFA.visualizar()"
   ]
  },
  {
   "cell_type": "code",
   "execution_count": null,
   "metadata": {},
   "outputs": [],
   "source": [
    "NFA_bpmn = nfa_to_bpmn(NFA, remove_unnecessary_gateways=True)\n",
    "display(pm4py.visualization.bpmn.visualizer.apply(NFA_bpmn))"
   ]
  },
  {
   "attachments": {},
   "cell_type": "markdown",
   "metadata": {},
   "source": [
    "# Exemplos de NFAs"
   ]
  },
  {
   "cell_type": "code",
   "execution_count": null,
   "metadata": {},
   "outputs": [],
   "source": [
    "from automaton2bpmn.to_automaton import to_nfa, to_nfa_minimum_path, to_nfa_history, removeAllSequencesOfRepetitions, to_nfa_minimum_path_join_traces\n",
    "from automaton2bpmn.to_bpmn import dfa_to_bpmn, to_nfa_minimum_path_join_traces, traces_to_dfa\n",
    "\n",
    "L1 = ['a', 'b', 'b', 'c']\n",
    "L2 = ['a', 'b', 'c', 'c']\n",
    "L3 = ['a', 'b', 'a', 'b']\n",
    "lLog = [L1,L2,L3]"
   ]
  },
  {
   "attachments": {},
   "cell_type": "markdown",
   "metadata": {},
   "source": [
    "## NFA\n",
    "Neste exemplo, geramos um NFA com um trace por \"caminho\"."
   ]
  },
  {
   "cell_type": "code",
   "execution_count": null,
   "metadata": {},
   "outputs": [],
   "source": [
    "nfa = to_nfa(lLog)\n",
    "nfa.display()"
   ]
  },
  {
   "attachments": {},
   "cell_type": "markdown",
   "metadata": {},
   "source": [
    "## NFA History\n",
    "Neste exemplo, geramos um NFA com um trace pelo tamanho do histórico do trace."
   ]
  },
  {
   "cell_type": "code",
   "execution_count": null,
   "metadata": {},
   "outputs": [],
   "source": [
    "nfaHis = to_nfa_history(lLog,history=2)\n",
    "nfaHis.display()"
   ]
  },
  {
   "attachments": {},
   "cell_type": "markdown",
   "metadata": {},
   "source": [
    "## NFA Minimum Path\n",
    "Neste exemplo, geramos um NFA com um trace por \"caminho\" minimizado, ou seja, sem retrabalho. Por retrabalho, entendemos uma sequência consecutiva de eventos."
   ]
  },
  {
   "cell_type": "code",
   "execution_count": null,
   "metadata": {},
   "outputs": [],
   "source": [
    "nfaMin = to_nfa_minimum_path(lLog)\n",
    "nfaMin.display()"
   ]
  },
  {
   "cell_type": "code",
   "execution_count": null,
   "metadata": {},
   "outputs": [],
   "source": [
    "nfaMinWithoutRework = to_nfa_minimum_path(lLog,rework=False)\n",
    "nfaMinWithoutRework.display()"
   ]
  },
  {
   "attachments": {},
   "cell_type": "markdown",
   "metadata": {},
   "source": [
    "## NFA Minimum Path Join Traces\n",
    "Neste exemplo, geramos um NFA com um trace por \"caminho\" minimizado, ou seja, sem retrabalho. Por retrabalho, entendemos uma sequência consecutiva de eventos. Nesta versão, teremos apenas sequências únicas "
   ]
  },
  {
   "cell_type": "code",
   "execution_count": null,
   "metadata": {},
   "outputs": [],
   "source": [
    "nfaMinJoin = to_nfa_minimum_path_join_traces(lLog)\n",
    "nfaMinJoin.display()"
   ]
  },
  {
   "cell_type": "code",
   "execution_count": null,
   "metadata": {},
   "outputs": [],
   "source": [
    "nfaMinJoinWithoutRework = to_nfa_minimum_path_join_traces(lLog,rework=False)\n",
    "nfaMinJoinWithoutRework.display()"
   ]
  }
 ],
 "metadata": {
  "kernelspec": {
   "display_name": "base",
   "language": "python",
   "name": "python3"
  },
  "language_info": {
   "codemirror_mode": {
    "name": "ipython",
    "version": 3
   },
   "file_extension": ".py",
   "mimetype": "text/x-python",
   "name": "python",
   "nbconvert_exporter": "python",
   "pygments_lexer": "ipython3",
   "version": "3.9.7 (default, Sep 16 2021, 08:50:36) \n[Clang 10.0.0 ]"
  },
  "orig_nbformat": 4,
  "vscode": {
   "interpreter": {
    "hash": "40d3a090f54c6569ab1632332b64b2c03c39dcf918b08424e98f38b5ae0af88f"
   }
  }
 },
 "nbformat": 4,
 "nbformat_minor": 2
}
